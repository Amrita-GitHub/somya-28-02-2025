{
  "nbformat": 4,
  "nbformat_minor": 0,
  "metadata": {
    "colab": {
      "provenance": [],
      "authorship_tag": "ABX9TyNTRTi9oFvuWITwdvGA1X1/",
      "include_colab_link": true
    },
    "kernelspec": {
      "name": "python3",
      "display_name": "Python 3"
    },
    "language_info": {
      "name": "python"
    }
  },
  "cells": [
    {
      "cell_type": "markdown",
      "metadata": {
        "id": "view-in-github",
        "colab_type": "text"
      },
      "source": [
        "<a href=\"https://colab.research.google.com/github/Amrita-GitHub/somya-28-02-2025/blob/main/Class%2010_Scope_Lambdas.ipynb\" target=\"_parent\"><img src=\"https://colab.research.google.com/assets/colab-badge.svg\" alt=\"Open In Colab\"/></a>"
      ]
    },
    {
      "cell_type": "code",
      "execution_count": 23,
      "metadata": {
        "colab": {
          "base_uri": "https://localhost:8080/"
        },
        "id": "7vOpWmZugtF1",
        "outputId": "4d7c98d0-5b50-4811-ee7c-f8a146e915b0"
      },
      "outputs": [
        {
          "output_type": "stream",
          "name": "stdout",
          "text": [
            "In function test...!!!\n",
            "Local var a in function test() = 101\n",
            "access the global var b in function test() = 20.89\n",
            "accessing global variable a = 100.99\n",
            "accessing global variable b = 40.89\n"
          ]
        }
      ],
      "source": [
        "# global variable\n",
        "a=100.99\n",
        "b=19.89\n",
        "# called function\n",
        "def test():\n",
        "  print(\"In function test...!!!\")\n",
        "  # function body\n",
        "  # local variable\n",
        "  a=100\n",
        "  # a = a+1\n",
        "  a += 1\n",
        "  print(f\"Local var a in function test() = {a}\")\n",
        "#  access the global variable b inside the function\n",
        "# able to refrence the global var inside the function using the keyword global\n",
        "  global b\n",
        "  b += 1\n",
        "  print(f\"access the global var b in function test() = {b}\")\n",
        "\n",
        "\n",
        "\n",
        "# access the variable only through the function\n",
        "# calling function-----run first\n",
        "test()\n",
        "print(f\"accessing global variable a = {a}\")\n",
        "b =  b+20\n",
        "print(f\"accessing global variable b = {b}\")"
      ]
    },
    {
      "cell_type": "code",
      "source": [
        "counter = 0\n",
        "def increment_counter():\n",
        "   global counter\n",
        "   counter += 1\n",
        "   print(f\"This function is called   {counter} times...!!!\")\n",
        "\n",
        "increment_counter()\n",
        "increment_counter()\n",
        "increment_counter()\n",
        "increment_counter()\n",
        "increment_counter()\n",
        "increment_counter()\n"
      ],
      "metadata": {
        "colab": {
          "base_uri": "https://localhost:8080/"
        },
        "id": "AEK5a14sk2ch",
        "outputId": "af4f4e69-7540-47f2-8a35-2d5e1b805fc6"
      },
      "execution_count": 21,
      "outputs": [
        {
          "output_type": "stream",
          "name": "stdout",
          "text": [
            "This function is called   1 times...!!!\n",
            "This function is called   2 times...!!!\n",
            "This function is called   3 times...!!!\n",
            "This function is called   4 times...!!!\n",
            "This function is called   5 times...!!!\n",
            "This function is called   6 times...!!!\n"
          ]
        }
      ]
    },
    {
      "cell_type": "code",
      "source": [
        "# use lambdas to cal the add,mul,sub,division\n",
        "\n",
        "add = lambda a,b : print(f\"Sum = {a+b}\")\n",
        "add(3,5)\n",
        "\n",
        "mul = lambda a,b : print(f\"Multiplcation = {a*b}\")\n",
        "mul(3,5)\n",
        "\n",
        "div = lambda a,b : print(f\"Division = {a//b}\")\n",
        "div(13,5)\n",
        "\n",
        "sub = lambda a,b : a-b\n",
        "print(f\"Subtraction = {sub(10,5)}\")"
      ],
      "metadata": {
        "colab": {
          "base_uri": "https://localhost:8080/"
        },
        "id": "M44jyL_op0Bd",
        "outputId": "80d6b3c5-7b9d-43ce-fd23-a5aa9c254bc7"
      },
      "execution_count": 35,
      "outputs": [
        {
          "output_type": "stream",
          "name": "stdout",
          "text": [
            "Sum = 8\n",
            "Multiplcation = 15\n",
            "Division = 2\n",
            "Subtraction = 5\n"
          ]
        }
      ]
    },
    {
      "cell_type": "code",
      "source": [
        "#  find even numbers using the map function\n",
        "numbers = [1,2,3,4,5,6,7,8,9,10]\n",
        "\n",
        "evennum = list(map(lambda n : n%2 == 0 , numbers))\n",
        "print(evennum)\n"
      ],
      "metadata": {
        "colab": {
          "base_uri": "https://localhost:8080/"
        },
        "id": "Bd7dt4P7rvIL",
        "outputId": "055a9e89-e910-4903-dd10-4c6357f2cb6d"
      },
      "execution_count": 48,
      "outputs": [
        {
          "output_type": "stream",
          "name": "stdout",
          "text": [
            "[False, True, False, True, False, True, False, True, False, True]\n"
          ]
        }
      ]
    },
    {
      "cell_type": "code",
      "source": [
        "#  find even numbers using the map function\n",
        "numbers = [1,2,3,4,5,6,7,8,9,10]\n",
        "\n",
        "evennum = list(filter(lambda n : n%2 == 0, numbers))\n",
        "print(evennum)\n"
      ],
      "metadata": {
        "colab": {
          "base_uri": "https://localhost:8080/"
        },
        "id": "5PIHIzgztNkP",
        "outputId": "df45794a-e8eb-440e-ba8f-5be07ccdca18"
      },
      "execution_count": 46,
      "outputs": [
        {
          "output_type": "stream",
          "name": "stdout",
          "text": [
            "[2, 4, 6, 8, 10]\n"
          ]
        }
      ]
    },
    {
      "cell_type": "code",
      "source": [
        "numbers = [1,2,3,4,15,6,7,88,9,10]\n",
        "\n",
        "sortednum = sorted(numbers,reverse=True)\n",
        "print(sortednum)"
      ],
      "metadata": {
        "colab": {
          "base_uri": "https://localhost:8080/"
        },
        "id": "ovA_XtgkuvZJ",
        "outputId": "701aef1d-4de5-49c6-a1d4-5226a54741f0"
      },
      "execution_count": 57,
      "outputs": [
        {
          "output_type": "stream",
          "name": "stdout",
          "text": [
            "[88, 15, 10, 9, 7, 6, 4, 3, 2, 1]\n"
          ]
        }
      ]
    },
    {
      "cell_type": "code",
      "source": [
        "# Write a lambda function that takes a string as input and returns the string in uppercase.\n",
        "\n",
        "result = lambda s : s.upper()\n",
        "print(result(\"amrita\"))\n",
        "print(result(\"rishit\"))\n",
        "print(result(\"somya\"))"
      ],
      "metadata": {
        "colab": {
          "base_uri": "https://localhost:8080/"
        },
        "id": "glfNA0SWt5bA",
        "outputId": "f5689f03-2f5a-4ca9-e3cc-c299e0eaf478"
      },
      "execution_count": 51,
      "outputs": [
        {
          "output_type": "stream",
          "name": "stdout",
          "text": [
            "AMRITA\n",
            "RISHIT\n",
            "SOMYA\n"
          ]
        }
      ]
    },
    {
      "cell_type": "code",
      "source": [
        "def toUpper(name):\n",
        "  return name.upper()\n",
        "\n",
        "print(toUpper(\"amrita saxena\"))\n",
        "print(toUpper(\"rishit\"))\n",
        "print(toUpper(\"somya\"))"
      ],
      "metadata": {
        "colab": {
          "base_uri": "https://localhost:8080/"
        },
        "id": "bWiS6LnwueYo",
        "outputId": "7e4f6394-ee59-45e3-adfa-6264a6ecebca"
      },
      "execution_count": 53,
      "outputs": [
        {
          "output_type": "stream",
          "name": "stdout",
          "text": [
            "AMRITA SAXENA\n",
            "RISHIT\n",
            "SOMYA\n"
          ]
        }
      ]
    },
    {
      "cell_type": "code",
      "source": [
        "import math as m\n",
        "print(m.pow(2,4))"
      ],
      "metadata": {
        "colab": {
          "base_uri": "https://localhost:8080/"
        },
        "id": "sH0T5SHuvawg",
        "outputId": "f7f9a425-a843-4689-9c36-88385e994f1b"
      },
      "execution_count": 60,
      "outputs": [
        {
          "output_type": "stream",
          "name": "stdout",
          "text": [
            "16.0\n"
          ]
        }
      ]
    },
    {
      "cell_type": "markdown",
      "source": [],
      "metadata": {
        "id": "V3iYewt6leZG"
      }
    }
  ]
}