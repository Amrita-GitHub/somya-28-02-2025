{
  "nbformat": 4,
  "nbformat_minor": 0,
  "metadata": {
    "colab": {
      "provenance": [],
      "authorship_tag": "ABX9TyO1SsWX0lbbm+B1PGutbLx5",
      "include_colab_link": true
    },
    "kernelspec": {
      "name": "python3",
      "display_name": "Python 3"
    },
    "language_info": {
      "name": "python"
    }
  },
  "cells": [
    {
      "cell_type": "markdown",
      "metadata": {
        "id": "view-in-github",
        "colab_type": "text"
      },
      "source": [
        "<a href=\"https://colab.research.google.com/github/Amrita-GitHub/somya-28-02-2025/blob/main/Class%2011-%20args_kwargs_modules.ipynb\" target=\"_parent\"><img src=\"https://colab.research.google.com/assets/colab-badge.svg\" alt=\"Open In Colab\"/></a>"
      ]
    },
    {
      "cell_type": "code",
      "execution_count": 7,
      "metadata": {
        "colab": {
          "base_uri": "https://localhost:8080/"
        },
        "id": "z2YyWXY_So4y",
        "outputId": "f843a075-29b7-4a2a-8e2c-f3a5d8bde7ab"
      },
      "outputs": [
        {
          "output_type": "stream",
          "name": "stdout",
          "text": [
            "81\n"
          ]
        }
      ],
      "source": [
        "# variable arguments\n",
        "# *args - tuple\n",
        "\n",
        "def total_sales(*n):\n",
        "  return sum(n)\n",
        "\n",
        "print(total_sales(1,2,3,6,9,10,50))\n",
        "\n"
      ]
    },
    {
      "cell_type": "code",
      "source": [
        "# **kwargs- keyword arguments\n",
        "# represented as a dictionary\n",
        "\n",
        "def report_metrics(**metrics):\n",
        "  for k,v in metrics.items():\n",
        "    print(f\"key = {k}   value={v}\")\n",
        "\n",
        "\n",
        "report_metrics(region=\"tampa\",sales = 100000,profit =0.15)\n"
      ],
      "metadata": {
        "colab": {
          "base_uri": "https://localhost:8080/"
        },
        "id": "o0ga10qAY-GB",
        "outputId": "84875b9d-91dd-4cb8-c1f4-28ad6e92d725"
      },
      "execution_count": 11,
      "outputs": [
        {
          "output_type": "stream",
          "name": "stdout",
          "text": [
            "key = region   value=tampa\n",
            "key = sales   value=100000\n",
            "key = profit   value=0.15\n"
          ]
        }
      ]
    },
    {
      "cell_type": "code",
      "source": [
        "def bussiness_report(title,*args,report_date=\"unknown\",**kwargs):\n",
        "  print(title)\n",
        "  print(f\"Report Date = {report_date}\")\n",
        "  for n in args:\n",
        "   print(f\"KPI = {n}\")\n",
        "  for k,v in kwargs.items():\n",
        "    print(f\"key = {k}   value={v}\")\n",
        "\n",
        "\n",
        "bussiness_report(\"Monthly Sales Report\",\"New Customers\",\"Total Sales\", report_date=\"25-03-2025\",region=\"tampa\",sales = 100000,profit =0.15 )\n",
        ""
      ],
      "metadata": {
        "colab": {
          "base_uri": "https://localhost:8080/"
        },
        "id": "Ea3bbr4DbCBv",
        "outputId": "a246f9d0-c2cf-4baa-cf2c-7003aa6f2254"
      },
      "execution_count": 23,
      "outputs": [
        {
          "output_type": "stream",
          "name": "stdout",
          "text": [
            "Monthly Sales Report\n",
            "Report Date = 25-03-2025\n",
            "KPI = New Customers\n",
            "KPI = Total Sales\n",
            "key = region   value=tampa\n",
            "key = sales   value=100000\n",
            "key = profit   value=0.15\n"
          ]
        }
      ]
    },
    {
      "cell_type": "code",
      "source": [
        "# import math\n",
        "from math import pi\n",
        "print(math.pi)\n",
        "print(math.pow(2,4))"
      ],
      "metadata": {
        "colab": {
          "base_uri": "https://localhost:8080/"
        },
        "id": "2SuIxmkPgEW9",
        "outputId": "e0c34733-f2cd-4901-a135-f907e9df2da8"
      },
      "execution_count": 29,
      "outputs": [
        {
          "output_type": "stream",
          "name": "stdout",
          "text": [
            "3.141592653589793\n",
            "16.0\n"
          ]
        }
      ]
    },
    {
      "cell_type": "code",
      "source": [
        "from math import pi\n",
        "print(math.pi)\n",
        "print(math.pow(2,4))\n"
      ],
      "metadata": {
        "colab": {
          "base_uri": "https://localhost:8080/"
        },
        "id": "L7OhxeP5gi7B",
        "outputId": "9b0206f3-cf99-40bf-f535-cf5626630adc"
      },
      "execution_count": 30,
      "outputs": [
        {
          "output_type": "stream",
          "name": "stdout",
          "text": [
            "3.141592653589793\n",
            "16.0\n"
          ]
        }
      ]
    },
    {
      "cell_type": "code",
      "source": [
        "import statistics\n",
        "num = [1,2,3,4,5,10]\n",
        "print(statistics.mean(num))\n",
        "print(statistics.median(num))"
      ],
      "metadata": {
        "colab": {
          "base_uri": "https://localhost:8080/"
        },
        "id": "Wip4FQT3iI1z",
        "outputId": "74dcbe7e-bc29-4c61-b8bd-bc071edf19eb"
      },
      "execution_count": 35,
      "outputs": [
        {
          "output_type": "stream",
          "name": "stdout",
          "text": [
            "4.166666666666667\n",
            "3.5\n"
          ]
        }
      ]
    }
  ]
}