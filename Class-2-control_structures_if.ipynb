{
  "nbformat": 4,
  "nbformat_minor": 0,
  "metadata": {
    "colab": {
      "provenance": [],
      "authorship_tag": "ABX9TyOOdS1w5DSuZ+o5Bps3fMPj",
      "include_colab_link": true
    },
    "kernelspec": {
      "name": "python3",
      "display_name": "Python 3"
    },
    "language_info": {
      "name": "python"
    }
  },
  "cells": [
    {
      "cell_type": "markdown",
      "metadata": {
        "id": "view-in-github",
        "colab_type": "text"
      },
      "source": [
        "<a href=\"https://colab.research.google.com/github/Amrita-GitHub/somya-28-02-2025/blob/main/Class-2-control_structures_if.ipynb\" target=\"_parent\"><img src=\"https://colab.research.google.com/assets/colab-badge.svg\" alt=\"Open In Colab\"/></a>"
      ]
    },
    {
      "cell_type": "code",
      "execution_count": 2,
      "metadata": {
        "id": "dh5g0NSx7jEy"
      },
      "outputs": [],
      "source": [
        "# accept lenght and breadth from the user\n",
        "# if length > 0 and breadth > 0\n",
        "# then we calulate area"
      ]
    },
    {
      "cell_type": "code",
      "source": [
        "length = float(input('Enter the length'))"
      ],
      "metadata": {
        "colab": {
          "base_uri": "https://localhost:8080/"
        },
        "id": "kJY_E3YpCqEt",
        "outputId": "8f7a1b72-a56a-4cf4-d78c-243989a0c29d"
      },
      "execution_count": 43,
      "outputs": [
        {
          "name": "stdout",
          "output_type": "stream",
          "text": [
            "Enter the length-2\n"
          ]
        }
      ]
    },
    {
      "cell_type": "code",
      "source": [
        "breadth = float(input('Enter the breadth'))"
      ],
      "metadata": {
        "colab": {
          "base_uri": "https://localhost:8080/"
        },
        "id": "x1vtXZO1C7CQ",
        "outputId": "f94b0dde-817a-4d74-ae49-c49419fdedf2"
      },
      "execution_count": 44,
      "outputs": [
        {
          "name": "stdout",
          "output_type": "stream",
          "text": [
            "Enter the breadth10\n"
          ]
        }
      ]
    },
    {
      "cell_type": "code",
      "source": [
        "if length > 0 and breadth > 0:\n",
        "  area = length * breadth\n",
        "  print('area',area)\n",
        "\n",
        "else:\n",
        "  print('Cannot calculate area since must be length > 0 and breadth > 0')"
      ],
      "metadata": {
        "colab": {
          "base_uri": "https://localhost:8080/"
        },
        "id": "_aVBQUzCDjz-",
        "outputId": "00469f76-3fd5-4056-db48-5e65881b76c3"
      },
      "execution_count": 32,
      "outputs": [
        {
          "output_type": "stream",
          "name": "stdout",
          "text": [
            "Cannot calculate area since must be length > 0 and breadth > 0\n"
          ]
        }
      ]
    },
    {
      "cell_type": "code",
      "source": [
        "if length > 0 and breadth > 0:\n",
        "  area= length * breadth\n",
        "  print('area in positive',area)\n",
        "elif length < 0  and  breadth < 0 :\n",
        "  area= length * breadth\n",
        "  print('area in negative ',area)\n",
        "else:\n",
        "  print('Else',0)\n",
        "\n",
        "\n",
        "\n"
      ],
      "metadata": {
        "colab": {
          "base_uri": "https://localhost:8080/"
        },
        "id": "2CCwVJaqJ9gv",
        "outputId": "7b2d92c4-e95b-43e4-aa1b-8341f5b30b94"
      },
      "execution_count": 45,
      "outputs": [
        {
          "output_type": "stream",
          "name": "stdout",
          "text": [
            "Else 0\n"
          ]
        }
      ]
    },
    {
      "cell_type": "code",
      "source": [
        "revenue_growth = float(input('enter your revenue to calaculate the growth'))\n",
        "if revenue_growth > 0.15:\n",
        "  classification = \"High Growth\"\n",
        "elif revenue_growth >= 0.05 and revenue_growth <=0.15:\n",
        "  classification = 'Moderate Growth'\n",
        "else:\n",
        "  classification = 'Low Growth'\n",
        "\n",
        "print(f'Classification    {classification}')\n",
        "# print('Classfication= ', classification)\n",
        "\n"
      ],
      "metadata": {
        "colab": {
          "base_uri": "https://localhost:8080/"
        },
        "id": "pY0hbaR7NUth",
        "outputId": "68cb60c9-01b8-4dd5-f61f-a206c17a0b74"
      },
      "execution_count": 61,
      "outputs": [
        {
          "output_type": "stream",
          "name": "stdout",
          "text": [
            "enter your revenue to calaculate the growth0.001\n",
            "Classification    Low Growth\n"
          ]
        }
      ]
    },
    {
      "cell_type": "code",
      "source": [
        "name = \"somya\"\n",
        "age = 20.1234\n",
        "\n",
        "print(f\"name is {name} and age is {age:.2f}\")"
      ],
      "metadata": {
        "colab": {
          "base_uri": "https://localhost:8080/"
        },
        "id": "Yr6IAfYHTVyw",
        "outputId": "8802bbe7-5300-47eb-c11d-a91c312f9d0a"
      },
      "execution_count": 63,
      "outputs": [
        {
          "output_type": "stream",
          "name": "stdout",
          "text": [
            "name is somya and age is 20.12\n"
          ]
        }
      ]
    }
  ]
}