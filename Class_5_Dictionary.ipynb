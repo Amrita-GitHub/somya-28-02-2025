{
  "nbformat": 4,
  "nbformat_minor": 0,
  "metadata": {
    "colab": {
      "provenance": [],
      "authorship_tag": "ABX9TyPnw86DpTOwSdZc7cl5R12F",
      "include_colab_link": true
    },
    "kernelspec": {
      "name": "python3",
      "display_name": "Python 3"
    },
    "language_info": {
      "name": "python"
    }
  },
  "cells": [
    {
      "cell_type": "markdown",
      "metadata": {
        "id": "view-in-github",
        "colab_type": "text"
      },
      "source": [
        "<a href=\"https://colab.research.google.com/github/Amrita-GitHub/somya-28-02-2025/blob/main/Class_5_Dictionary.ipynb\" target=\"_parent\"><img src=\"https://colab.research.google.com/assets/colab-badge.svg\" alt=\"Open In Colab\"/></a>"
      ]
    },
    {
      "cell_type": "code",
      "execution_count": 4,
      "metadata": {
        "colab": {
          "base_uri": "https://localhost:8080/"
        },
        "id": "osPqStO19PY7",
        "outputId": "e010b19f-d71b-4293-9170-9f6d870732f1"
      },
      "outputs": [
        {
          "output_type": "stream",
          "name": "stdout",
          "text": [
            "{}\n"
          ]
        },
        {
          "output_type": "execute_result",
          "data": {
            "text/plain": [
              "dict"
            ]
          },
          "metadata": {},
          "execution_count": 4
        }
      ],
      "source": [
        "customer = {}\n",
        "print(customer)\n",
        "type(customer)"
      ]
    },
    {
      "cell_type": "code",
      "source": [
        "student = {\n",
        "    \"id\" : 101,\n",
        "    \"name\" : \"Amrita\",\n",
        "    \"name\" : \"Saxena\",\n",
        "    \"email\" : \"amrita.m.saxena@gmail.com\"\n",
        "    }\n",
        "student\n",
        "# student[\"course\"]\n",
        "# student.get(\"course\")\n",
        "# student.get(\"course\",\"key course is not defined in the dictionary\")\n",
        "# student.get(\"name\")"
      ],
      "metadata": {
        "colab": {
          "base_uri": "https://localhost:8080/"
        },
        "id": "i-T_FHqe9w9T",
        "outputId": "c1a65d50-d29f-4f1f-8fa5-699252485ada"
      },
      "execution_count": 103,
      "outputs": [
        {
          "output_type": "execute_result",
          "data": {
            "text/plain": [
              "{'id': 101, 'name': 'Saxena', 'email': 'amrita.m.saxena@gmail.com'}"
            ]
          },
          "metadata": {},
          "execution_count": 103
        }
      ]
    },
    {
      "cell_type": "code",
      "source": [
        "# update the dictionary\n",
        "student[\"address\"] = \"India\"\n",
        "student"
      ],
      "metadata": {
        "colab": {
          "base_uri": "https://localhost:8080/"
        },
        "id": "QrNilPKBBHLs",
        "outputId": "0f6239f7-1e0f-465b-987c-b3937ba53bd0"
      },
      "execution_count": 104,
      "outputs": [
        {
          "output_type": "execute_result",
          "data": {
            "text/plain": [
              "{'id': 101,\n",
              " 'name': 'Saxena',\n",
              " 'email': 'amrita.m.saxena@gmail.com',\n",
              " 'address': 'India'}"
            ]
          },
          "metadata": {},
          "execution_count": 104
        }
      ]
    },
    {
      "cell_type": "code",
      "source": [
        "student['name'] =\"Amrita Saxena\"\n",
        "student"
      ],
      "metadata": {
        "colab": {
          "base_uri": "https://localhost:8080/"
        },
        "id": "INR0YbkWBc4H",
        "outputId": "0744b427-b4b0-493a-e7b0-494e2f5d38ff"
      },
      "execution_count": 105,
      "outputs": [
        {
          "output_type": "execute_result",
          "data": {
            "text/plain": [
              "{'id': 101,\n",
              " 'name': 'Amrita Saxena',\n",
              " 'email': 'amrita.m.saxena@gmail.com',\n",
              " 'address': 'India'}"
            ]
          },
          "metadata": {},
          "execution_count": 105
        }
      ]
    },
    {
      "cell_type": "code",
      "source": [
        "# length of dict\n",
        "len(student)\n"
      ],
      "metadata": {
        "colab": {
          "base_uri": "https://localhost:8080/"
        },
        "id": "ie8wpyCWE3fw",
        "outputId": "bb151718-2409-4b9d-8191-b2ed56229ed6"
      },
      "execution_count": 106,
      "outputs": [
        {
          "output_type": "execute_result",
          "data": {
            "text/plain": [
              "4"
            ]
          },
          "metadata": {},
          "execution_count": 106
        }
      ]
    },
    {
      "cell_type": "code",
      "source": [
        "exists = \"age\" in student\n",
        "print(f\"does the key   exists in the dictionary student ???{exists}\")\n"
      ],
      "metadata": {
        "colab": {
          "base_uri": "https://localhost:8080/"
        },
        "id": "v0UvS8pOFDd4",
        "outputId": "d7025e23-f0ba-4b7e-b77e-6bfb8ea1f4cb"
      },
      "execution_count": 108,
      "outputs": [
        {
          "output_type": "stream",
          "name": "stdout",
          "text": [
            "does the key   exists in the dictionary student ???False\n"
          ]
        }
      ]
    },
    {
      "cell_type": "code",
      "source": [
        "# keys()--> returns a set view of the keys in the dictionary\n",
        "print(student.keys())"
      ],
      "metadata": {
        "colab": {
          "base_uri": "https://localhost:8080/"
        },
        "id": "qd9BD0XDQS-L",
        "outputId": "9ec3e116-edae-47cf-ad8b-705f61fb78a9"
      },
      "execution_count": 109,
      "outputs": [
        {
          "output_type": "stream",
          "name": "stdout",
          "text": [
            "dict_keys(['id', 'name', 'email', 'address'])\n"
          ]
        }
      ]
    },
    {
      "cell_type": "code",
      "source": [
        "# keys()--> returns a set view of the values in the dictionary\n",
        "print(student.values())"
      ],
      "metadata": {
        "colab": {
          "base_uri": "https://localhost:8080/"
        },
        "id": "UOyrCQceSPfl",
        "outputId": "0363691e-3925-4280-8b8e-c36678d84edf"
      },
      "execution_count": 110,
      "outputs": [
        {
          "output_type": "stream",
          "name": "stdout",
          "text": [
            "dict_values([101, 'Amrita Saxena', 'amrita.m.saxena@gmail.com', 'India'])\n"
          ]
        }
      ]
    },
    {
      "cell_type": "code",
      "source": [
        "items = student.items()\n",
        "print(f\"{items}\")"
      ],
      "metadata": {
        "colab": {
          "base_uri": "https://localhost:8080/"
        },
        "id": "8IY25i2iSl8g",
        "outputId": "2cd0b9be-0cc7-4d9c-a333-3e3a04a5f119"
      },
      "execution_count": 112,
      "outputs": [
        {
          "output_type": "stream",
          "name": "stdout",
          "text": [
            "dict_items([('id', 101), ('name', 'Amrita Saxena'), ('email', 'amrita.m.saxena@gmail.com'), ('address', 'India')])\n"
          ]
        }
      ]
    },
    {
      "cell_type": "code",
      "source": [
        "# Loop or iterate through the dictionary\n",
        "# iterate the keys from the dictionary\n",
        "for keys in student:\n",
        "  print(f\"{keys}\")"
      ],
      "metadata": {
        "colab": {
          "base_uri": "https://localhost:8080/"
        },
        "id": "FNIaii9FTQdS",
        "outputId": "01a80fa4-6d67-4e51-aeec-938c5920a899"
      },
      "execution_count": 115,
      "outputs": [
        {
          "output_type": "stream",
          "name": "stdout",
          "text": [
            "id\n",
            "name\n",
            "email\n",
            "address\n"
          ]
        }
      ]
    },
    {
      "cell_type": "code",
      "source": [
        "# Loop or iterate through the dictionary\n",
        "# iterate the values from the dictionary\n",
        "for value in student.values():\n",
        "  print(f\"{value}\")"
      ],
      "metadata": {
        "colab": {
          "base_uri": "https://localhost:8080/"
        },
        "id": "48n3gM-XTxtq",
        "outputId": "0e7c8541-cdf4-4d86-f22f-66d2d0540bee"
      },
      "execution_count": 117,
      "outputs": [
        {
          "output_type": "stream",
          "name": "stdout",
          "text": [
            "101\n",
            "Amrita Saxena\n",
            "amrita.m.saxena@gmail.com\n",
            "India\n"
          ]
        }
      ]
    },
    {
      "cell_type": "code",
      "source": [
        "# Loop or iterate through the dictionary\n",
        "# iterate the key,values from the dictionary\n",
        "\n",
        "for key,value in student.items():\n",
        "  print(f\"{key}  {value}\")"
      ],
      "metadata": {
        "colab": {
          "base_uri": "https://localhost:8080/"
        },
        "id": "TJbmvr0_UJLW",
        "outputId": "3aeea062-670a-4fee-d448-8f55a3faf5fb"
      },
      "execution_count": 118,
      "outputs": [
        {
          "output_type": "stream",
          "name": "stdout",
          "text": [
            "id  101\n",
            "name  Amrita Saxena\n",
            "email  amrita.m.saxena@gmail.com\n",
            "address  India\n"
          ]
        }
      ]
    },
    {
      "cell_type": "code",
      "source": [
        "# Delete using del and pop\n",
        "\n",
        "del student[\"address\"]\n",
        "student\n",
        "\n"
      ],
      "metadata": {
        "colab": {
          "base_uri": "https://localhost:8080/"
        },
        "id": "KP99AbtyCDV6",
        "outputId": "da6d6fe6-eb49-40f9-d542-993ade95a742"
      },
      "execution_count": 70,
      "outputs": [
        {
          "output_type": "execute_result",
          "data": {
            "text/plain": [
              "{'id': 101, 'name': 'Amrita Saxena', 'email': 'amrita.m.saxena@gmail.com'}"
            ]
          },
          "metadata": {},
          "execution_count": 70
        }
      ]
    },
    {
      "cell_type": "code",
      "source": [
        "sname = student.pop('name',\"name is already popped\")\n",
        "print(sname)\n"
      ],
      "metadata": {
        "colab": {
          "base_uri": "https://localhost:8080/"
        },
        "id": "FxY_5EfqCrKm",
        "outputId": "ab3f31a8-eb56-4997-b4bc-392e2472b507"
      },
      "execution_count": 72,
      "outputs": [
        {
          "output_type": "stream",
          "name": "stdout",
          "text": [
            "name is already popped\n"
          ]
        }
      ]
    },
    {
      "cell_type": "code",
      "source": [
        "student"
      ],
      "metadata": {
        "colab": {
          "base_uri": "https://localhost:8080/"
        },
        "id": "Kc5EQjUPDcO8",
        "outputId": "4fa13064-f322-4f0f-96f9-69cc40ba34d3"
      },
      "execution_count": 64,
      "outputs": [
        {
          "output_type": "execute_result",
          "data": {
            "text/plain": [
              "{'id': 101, 'email': 'amrita.m.saxena@gmail.com'}"
            ]
          },
          "metadata": {},
          "execution_count": 64
        }
      ]
    }
  ]
}