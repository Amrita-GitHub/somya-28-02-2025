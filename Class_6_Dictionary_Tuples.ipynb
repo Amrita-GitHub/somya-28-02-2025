{
  "nbformat": 4,
  "nbformat_minor": 0,
  "metadata": {
    "colab": {
      "provenance": [],
      "authorship_tag": "ABX9TyMvZhfbQPunOoO1/Ub50deY",
      "include_colab_link": true
    },
    "kernelspec": {
      "name": "python3",
      "display_name": "Python 3"
    },
    "language_info": {
      "name": "python"
    }
  },
  "cells": [
    {
      "cell_type": "markdown",
      "metadata": {
        "id": "view-in-github",
        "colab_type": "text"
      },
      "source": [
        "<a href=\"https://colab.research.google.com/github/Amrita-GitHub/somya-28-02-2025/blob/main/Class_6_Dictionary_Tuples.ipynb\" target=\"_parent\"><img src=\"https://colab.research.google.com/assets/colab-badge.svg\" alt=\"Open In Colab\"/></a>"
      ]
    },
    {
      "cell_type": "code",
      "execution_count": 13,
      "metadata": {
        "colab": {
          "base_uri": "https://localhost:8080/"
        },
        "id": "LtuCKk0huf4A",
        "outputId": "bdabc487-0780-4cce-af42-d370c8c2cf88"
      },
      "outputs": [
        {
          "output_type": "execute_result",
          "data": {
            "text/plain": [
              "(101, 'amrita', 'msba')"
            ]
          },
          "metadata": {},
          "execution_count": 13
        }
      ],
      "source": [
        "# create a tuple\n",
        "\n",
        "# packing a tuple\n",
        "student = (101,\"amrita\",\"msba\")\n",
        "type(student)\n",
        "student"
      ]
    },
    {
      "cell_type": "code",
      "source": [
        "# studentId.append(102)\n",
        "# studentId"
      ],
      "metadata": {
        "id": "APxH7mDqw5ir"
      },
      "execution_count": 14,
      "outputs": []
    },
    {
      "cell_type": "code",
      "source": [
        "# use an index to retrieve the elements of tuple or\n",
        "sid = student[0]\n",
        "print(sid)\n",
        "sname = student[1]\n",
        "print(sname)\n",
        "scourse = student[2]\n",
        "print(scourse)"
      ],
      "metadata": {
        "colab": {
          "base_uri": "https://localhost:8080/"
        },
        "id": "-y52U6e5xxaD",
        "outputId": "61237682-78fd-4499-f773-d1225979bcc3"
      },
      "execution_count": 17,
      "outputs": [
        {
          "output_type": "stream",
          "name": "stdout",
          "text": [
            "101\n",
            "amrita\n",
            "msba\n"
          ]
        }
      ]
    },
    {
      "cell_type": "code",
      "source": [
        "# unpacking to retrieve the elements of tuple\n",
        "id,name,course = student\n",
        "print(id)\n",
        "print(name)\n",
        "print(course)"
      ],
      "metadata": {
        "colab": {
          "base_uri": "https://localhost:8080/"
        },
        "id": "Vw-XMld3xyN5",
        "outputId": "c1f82670-b0ec-4bb9-e158-a0643e5f77be"
      },
      "execution_count": 18,
      "outputs": [
        {
          "output_type": "stream",
          "name": "stdout",
          "text": [
            "101\n",
            "amrita\n",
            "msba\n"
          ]
        }
      ]
    },
    {
      "cell_type": "code",
      "source": [
        "# swap 2 numbers\n",
        "\n",
        "(a,b) = (10,20)\n",
        "print(a)\n",
        "print(b)\n",
        "(a,b) = (b,a)\n",
        "print(f\"After swap a= {a}\")\n",
        "print(f\"After swap b= {b}\")"
      ],
      "metadata": {
        "colab": {
          "base_uri": "https://localhost:8080/"
        },
        "id": "sY85z-kh0Zez",
        "outputId": "4a54dd4d-24dc-4c7c-89c2-94051ec74dfd"
      },
      "execution_count": 21,
      "outputs": [
        {
          "output_type": "stream",
          "name": "stdout",
          "text": [
            "10\n",
            "20\n",
            "After swap a= 20\n",
            "After swap b= 10\n"
          ]
        }
      ]
    }
  ]
}