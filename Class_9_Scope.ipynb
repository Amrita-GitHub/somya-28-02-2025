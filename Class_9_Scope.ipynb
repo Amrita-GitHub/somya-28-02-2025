{
  "nbformat": 4,
  "nbformat_minor": 0,
  "metadata": {
    "colab": {
      "provenance": [],
      "authorship_tag": "ABX9TyNKp7jH7mdMqu2YSeY6IvYe",
      "include_colab_link": true
    },
    "kernelspec": {
      "name": "python3",
      "display_name": "Python 3"
    },
    "language_info": {
      "name": "python"
    }
  },
  "cells": [
    {
      "cell_type": "markdown",
      "metadata": {
        "id": "view-in-github",
        "colab_type": "text"
      },
      "source": [
        "<a href=\"https://colab.research.google.com/github/Amrita-GitHub/somya-28-02-2025/blob/main/Class_9_Scope.ipynb\" target=\"_parent\"><img src=\"https://colab.research.google.com/assets/colab-badge.svg\" alt=\"Open In Colab\"/></a>"
      ]
    },
    {
      "cell_type": "code",
      "execution_count": null,
      "metadata": {
        "colab": {
          "base_uri": "https://localhost:8080/"
        },
        "id": "JpjMy9bw1Qke",
        "outputId": "2914852c-8a42-4247-cb05-0ef55c1f1fb6"
      },
      "outputs": [
        {
          "output_type": "stream",
          "name": "stdout",
          "text": [
            "Good Morning Amrita\n",
            "Welcome...... Somya\n",
            "Welcome...... Rishit\n",
            "Good Evening Steve\n",
            "Hello and welcome  Steven\n",
            "\n",
            "  This method greets uses a parmeter name and prints the welcome message\n",
            "  \n"
          ]
        }
      ],
      "source": [
        "# create a function with paramters\n",
        "def greet(name,greeting=\"Welcome......\"):\n",
        "  '''\n",
        "  This method greets uses a parmeter name and prints the welcome message\n",
        "  '''\n",
        "  # print(f\"Welcome from  functions ..{name}\")\n",
        "  print(f\"{greeting} {name}\")\n",
        "\n",
        "\n",
        "#resuse or call the function by passing arguments\n",
        "\n",
        "greet(greeting=\"Good Morning\",name = \"Amrita\")\n",
        "greet(\"Somya\")\n",
        "greet(\"Rishit\")\n",
        "greet(\"Steve\",\"Good Evening\")\n",
        "greet(greeting = \"Hello and welcome\", name  =\" Steven\")\n",
        "print(greet.__doc__)\n",
        "\n"
      ]
    },
    {
      "cell_type": "code",
      "source": [
        "def add_numbers(a=10,b=20):\n",
        "  '''\n",
        "  This function accepts 2 numbers as inputs and prints the sum\n",
        "  '''\n",
        "  sum = a+b\n",
        "  print(f\"a=  {a}\")\n",
        "  print(f\"b=  {b}\")\n",
        "  # print(f\"Sum of 2 numbers = {sum}\")\n",
        "  return sum\n",
        "\n",
        "\n",
        "print(add_numbers.__doc__)\n",
        "print(f\"Sum of 2 numbers ....{add_numbers(5,5)}\")\n",
        "# use default values\n",
        "print(f\"sum = {add_numbers()}\")\n",
        "# keyword arguments, override the default value in the argument\n",
        "print(f\"Sum = {add_numbers(b=100)}\")\n",
        "\n"
      ],
      "metadata": {
        "colab": {
          "base_uri": "https://localhost:8080/"
        },
        "id": "_qjzCMgw2Lyo",
        "outputId": "7216835b-a474-4327-fbde-28b308303808"
      },
      "execution_count": null,
      "outputs": [
        {
          "output_type": "stream",
          "name": "stdout",
          "text": [
            "\n",
            "  This function accepts 2 numbers as inputs and prints the sum \n",
            "  \n",
            "a=  5\n",
            "b=  5\n",
            "Sum of 2 numbers ....10\n",
            "a=  10\n",
            "b=  20\n",
            "sum = 30\n",
            "a=  10\n",
            "b=  100\n",
            "Sum = 110\n"
          ]
        }
      ]
    },
    {
      "cell_type": "code",
      "source": [
        "def discounted_price(price,discount_percentage):\n",
        "  '''\n",
        "  This function calulated the final price of the product after subtracting the discount\n",
        "  '''\n",
        "  discount = price * (discount_percentage/100)\n",
        "  print(f\"Discount amount = {discount}\")\n",
        "  final_price  =  price-discount\n",
        "  return final_price\n",
        "\n",
        "\n",
        "print(f\"The total price of the product after caluclating the discount...{discounted_price(1000,10)}\")\n",
        "print(f\"The total price of the product after caluclating the discount...{discounted_price(5000,discount_percentage=10)}\")\n",
        "\n"
      ],
      "metadata": {
        "colab": {
          "base_uri": "https://localhost:8080/"
        },
        "id": "5U3wlrAG1oHB",
        "outputId": "5f7ebb14-cb00-465e-ea20-849fb69deb4f"
      },
      "execution_count": null,
      "outputs": [
        {
          "output_type": "stream",
          "name": "stdout",
          "text": [
            "Discount amount = 100.0\n",
            "The total price of the product after caluclating the discount...900.0\n",
            "Discount amount = 500.0\n",
            "The total price of the product after caluclating the discount...4500.0\n"
          ]
        }
      ]
    },
    {
      "cell_type": "code",
      "source": [
        "# global variable\n",
        "a = 59.9\n",
        "b = 29.9\n",
        "\n",
        "# called function\n",
        "def test():\n",
        "  print(\"In function test...!!!\")\n",
        "  # function body\n",
        "  # local variable\n",
        "  a=100\n",
        "  # a = a+1\n",
        "  a += 1\n",
        "  print(f\"a in function test() = {a}\")\n",
        "  # To initalize and use the global variable b , inside the function test()\n",
        "  global b\n",
        "  b = b+1\n",
        "  print(f\"Global variable  b used  in function test() = {b}\")\n",
        "\n",
        "\n",
        "# access the variable only through the function\n",
        "# calling function-----run first\n",
        "test()\n",
        "print(f\"calling a from outside the function test() = {a}\")"
      ],
      "metadata": {
        "colab": {
          "base_uri": "https://localhost:8080/"
        },
        "id": "Nl7lsR5pCU2B",
        "outputId": "94af8c43-ead5-4bf0-a6a5-e02aaab70b37"
      },
      "execution_count": 2,
      "outputs": [
        {
          "output_type": "stream",
          "name": "stdout",
          "text": [
            "In function test...!!!\n",
            "a in function test() = 101\n",
            "Global variable  b used  in function test() = 30.9\n",
            "calling a from outside the function test() = 59.9\n"
          ]
        }
      ]
    }
  ]
}