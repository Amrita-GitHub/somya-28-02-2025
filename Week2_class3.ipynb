{
  "nbformat": 4,
  "nbformat_minor": 0,
  "metadata": {
    "colab": {
      "provenance": [],
      "authorship_tag": "ABX9TyOtPpZuzhDkrDczT4GUa56k",
      "include_colab_link": true
    },
    "kernelspec": {
      "name": "python3",
      "display_name": "Python 3"
    },
    "language_info": {
      "name": "python"
    }
  },
  "cells": [
    {
      "cell_type": "markdown",
      "metadata": {
        "id": "view-in-github",
        "colab_type": "text"
      },
      "source": [
        "<a href=\"https://colab.research.google.com/github/Amrita-GitHub/somya-28-02-2025/blob/main/Week2_class3.ipynb\" target=\"_parent\"><img src=\"https://colab.research.google.com/assets/colab-badge.svg\" alt=\"Open In Colab\"/></a>"
      ]
    },
    {
      "cell_type": "code",
      "execution_count": 3,
      "metadata": {
        "id": "pB2wut_48yiV",
        "colab": {
          "base_uri": "https://localhost:8080/"
        },
        "outputId": "6f5b752f-e4c9-4505-858c-ca5a802625c0"
      },
      "outputs": [
        {
          "output_type": "execute_result",
          "data": {
            "text/plain": [
              "[]"
            ]
          },
          "metadata": {},
          "execution_count": 3
        }
      ],
      "source": [
        "customers = []\n",
        "customers\n"
      ]
    },
    {
      "cell_type": "code",
      "source": [
        "#  0  -- (n-1)[[[left---right]]]\n",
        "# -1,-2,-3[Right--left]\n",
        "customers = ['somya','amrita','rishit']\n",
        "customers"
      ],
      "metadata": {
        "colab": {
          "base_uri": "https://localhost:8080/"
        },
        "id": "mCzSC36kUKo3",
        "outputId": "6a72f956-2856-4921-bc6d-f2bba3d7615e"
      },
      "execution_count": 19,
      "outputs": [
        {
          "output_type": "execute_result",
          "data": {
            "text/plain": [
              "['somya', 'amrita', 'rishit']"
            ]
          },
          "metadata": {},
          "execution_count": 19
        }
      ]
    },
    {
      "cell_type": "code",
      "source": [
        "# access the elements from the list/indexing\n",
        "customers[-1]\n"
      ],
      "metadata": {
        "colab": {
          "base_uri": "https://localhost:8080/",
          "height": 35
        },
        "id": "9hSR5nJPUUna",
        "outputId": "8a9f26b5-94fb-4524-bba0-280d03fe6de3"
      },
      "execution_count": 21,
      "outputs": [
        {
          "output_type": "execute_result",
          "data": {
            "text/plain": [
              "'rishit'"
            ],
            "application/vnd.google.colaboratory.intrinsic+json": {
              "type": "string"
            }
          },
          "metadata": {},
          "execution_count": 21
        }
      ]
    },
    {
      "cell_type": "code",
      "source": [
        "# change the element in the list\n",
        "customers[2]='mathur'\n",
        "customers"
      ],
      "metadata": {
        "colab": {
          "base_uri": "https://localhost:8080/"
        },
        "id": "n4olGbrNU_MT",
        "outputId": "c51624a8-8050-40d8-9e7e-7353d2e8a9ba"
      },
      "execution_count": 26,
      "outputs": [
        {
          "output_type": "execute_result",
          "data": {
            "text/plain": [
              "['chawla', 'saxena', 'mathur']"
            ]
          },
          "metadata": {},
          "execution_count": 26
        }
      ]
    },
    {
      "cell_type": "code",
      "source": [
        "# Add the elements to the list\n",
        "# 1. append(item)\n",
        "# 2. insert(index,item)\n",
        "\n",
        "customers.append(\"Tim\")\n",
        "customers"
      ],
      "metadata": {
        "colab": {
          "base_uri": "https://localhost:8080/"
        },
        "id": "2RDdwhKkWykc",
        "outputId": "210fa277-b8fe-4cb7-9ed0-df2af6cbbe2d"
      },
      "execution_count": 27,
      "outputs": [
        {
          "output_type": "execute_result",
          "data": {
            "text/plain": [
              "['chawla', 'saxena', 'mathur', 'Tim']"
            ]
          },
          "metadata": {},
          "execution_count": 27
        }
      ]
    },
    {
      "cell_type": "code",
      "source": [
        "# insert\n",
        "\n",
        "customers.insert(2,'John')\n",
        "customers\n"
      ],
      "metadata": {
        "colab": {
          "base_uri": "https://localhost:8080/"
        },
        "id": "cCJNIrchWt8D",
        "outputId": "91026611-bef7-4d06-a7d9-9b39016600b9"
      },
      "execution_count": 28,
      "outputs": [
        {
          "output_type": "execute_result",
          "data": {
            "text/plain": [
              "['chawla', 'saxena', 'John', 'mathur', 'Tim']"
            ]
          },
          "metadata": {},
          "execution_count": 28
        }
      ]
    },
    {
      "cell_type": "code",
      "source": [
        "# add john again to the end of the list\n",
        "customers.append('John')\n",
        "customers"
      ],
      "metadata": {
        "colab": {
          "base_uri": "https://localhost:8080/"
        },
        "id": "6QAG332CYwrm",
        "outputId": "1d1caa66-df6b-4c83-d3f9-1bdd2f8f3e51"
      },
      "execution_count": 35,
      "outputs": [
        {
          "output_type": "execute_result",
          "data": {
            "text/plain": [
              "['chawla',\n",
              " 'saxena',\n",
              " 'John',\n",
              " 'mathur',\n",
              " 'Tim',\n",
              " 'John',\n",
              " 'John',\n",
              " 'John',\n",
              " 'John',\n",
              " 'John',\n",
              " 'John',\n",
              " 'John']"
            ]
          },
          "metadata": {},
          "execution_count": 35
        }
      ]
    },
    {
      "cell_type": "code",
      "source": [
        "# Remove the first occurance of the item\n",
        "customers.remove(\"John\")\n",
        "customers"
      ],
      "metadata": {
        "colab": {
          "base_uri": "https://localhost:8080/"
        },
        "id": "L-C05LCGZOog",
        "outputId": "3e8967e6-4e26-4de7-90ee-ae1447868571"
      },
      "execution_count": 37,
      "outputs": [
        {
          "output_type": "execute_result",
          "data": {
            "text/plain": [
              "['chawla',\n",
              " 'saxena',\n",
              " 'mathur',\n",
              " 'Tim',\n",
              " 'John',\n",
              " 'John',\n",
              " 'John',\n",
              " 'John',\n",
              " 'John',\n",
              " 'John']"
            ]
          },
          "metadata": {},
          "execution_count": 37
        }
      ]
    },
    {
      "cell_type": "code",
      "source": [
        "customers.remove(\"Steven\")\n",
        "customers"
      ],
      "metadata": {
        "colab": {
          "base_uri": "https://localhost:8080/",
          "height": 159
        },
        "id": "tA6cqkYYZkq4",
        "outputId": "5e5e6a50-828c-49c4-8097-21eaa5fb3987"
      },
      "execution_count": 38,
      "outputs": [
        {
          "output_type": "error",
          "ename": "ValueError",
          "evalue": "list.remove(x): x not in list",
          "traceback": [
            "\u001b[0;31m---------------------------------------------------------------------------\u001b[0m",
            "\u001b[0;31mValueError\u001b[0m                                Traceback (most recent call last)",
            "\u001b[0;32m<ipython-input-38-916225fd6001>\u001b[0m in \u001b[0;36m<cell line: 0>\u001b[0;34m()\u001b[0m\n\u001b[0;32m----> 1\u001b[0;31m \u001b[0mcustomers\u001b[0m\u001b[0;34m.\u001b[0m\u001b[0mremove\u001b[0m\u001b[0;34m(\u001b[0m\u001b[0;34m\"Steven\"\u001b[0m\u001b[0;34m)\u001b[0m\u001b[0;34m\u001b[0m\u001b[0;34m\u001b[0m\u001b[0m\n\u001b[0m\u001b[1;32m      2\u001b[0m \u001b[0mcustomers\u001b[0m\u001b[0;34m\u001b[0m\u001b[0;34m\u001b[0m\u001b[0m\n",
            "\u001b[0;31mValueError\u001b[0m: list.remove(x): x not in list"
          ]
        }
      ]
    },
    {
      "cell_type": "code",
      "source": [
        "del customers[1]\n",
        "customers"
      ],
      "metadata": {
        "colab": {
          "base_uri": "https://localhost:8080/"
        },
        "id": "W6TV9fUpaDXM",
        "outputId": "c73eb8d8-819f-412d-aaab-4a3cee93d70a"
      },
      "execution_count": 39,
      "outputs": [
        {
          "output_type": "execute_result",
          "data": {
            "text/plain": [
              "['chawla', 'mathur', 'Tim', 'John', 'John', 'John', 'John', 'John', 'John']"
            ]
          },
          "metadata": {},
          "execution_count": 39
        }
      ]
    },
    {
      "cell_type": "code",
      "source": [
        "# pop - removes and displays the removed item from the list\n",
        "poped_customer = customers.pop(0)\n",
        "poped_customer"
      ],
      "metadata": {
        "colab": {
          "base_uri": "https://localhost:8080/",
          "height": 35
        },
        "id": "SdoO6sDZa_SZ",
        "outputId": "d9d3f945-87f8-4576-fbff-8a66b9e43666"
      },
      "execution_count": 40,
      "outputs": [
        {
          "output_type": "execute_result",
          "data": {
            "text/plain": [
              "'chawla'"
            ],
            "application/vnd.google.colaboratory.intrinsic+json": {
              "type": "string"
            }
          },
          "metadata": {},
          "execution_count": 40
        }
      ]
    },
    {
      "cell_type": "code",
      "source": [
        "customers"
      ],
      "metadata": {
        "colab": {
          "base_uri": "https://localhost:8080/"
        },
        "id": "G5_0DjW_bnKh",
        "outputId": "895fc757-810f-40e6-8aec-f1f72f4042da"
      },
      "execution_count": 41,
      "outputs": [
        {
          "output_type": "execute_result",
          "data": {
            "text/plain": [
              "['mathur', 'Tim', 'John', 'John', 'John', 'John', 'John', 'John']"
            ]
          },
          "metadata": {},
          "execution_count": 41
        }
      ]
    },
    {
      "cell_type": "code",
      "source": [
        "# Slice the list[start:stop:step]\n",
        "\n",
        "numbers = [0,1,2,3,4,5,6,7,8,9]\n",
        "numbers\n",
        "numbers[0:3]\n",
        "# 0--(n-1)\n",
        "numbers[3:7]\n",
        "numbers[::]\n",
        "numbers[::-4]\n",
        "# numbers[:-3]\n",
        "# numbers[:3]\n"
      ],
      "metadata": {
        "colab": {
          "base_uri": "https://localhost:8080/"
        },
        "id": "4PX4yMCVdP2f",
        "outputId": "ec7e2483-4023-4ccc-84e7-13ba2486c411"
      },
      "execution_count": 60,
      "outputs": [
        {
          "output_type": "execute_result",
          "data": {
            "text/plain": [
              "[9, 5, 1]"
            ]
          },
          "metadata": {},
          "execution_count": 60
        }
      ]
    },
    {
      "cell_type": "code",
      "source": [
        "numbers = [3, 1, 4, 1, 5, 9, 2, 6]\n",
        "numbers1 = [10,11,12]\n",
        "numbers\n",
        "len(numbers)\n",
        "numbers2 = numbers +  numbers1\n",
        "print(numbers2)\n",
        "1 in numbers2\n",
        "numbers2.count(10)\n",
        "# returns the posit of the item that occured first\n",
        "numbers2.index(1)\n",
        "# sorts the elemnts in the list\n",
        "# numbers2.sort()\n",
        "# numbers2\n",
        "# print(f\"Sorted orders of numbers {numbers2}\")\n",
        "# reverse\n",
        "numbers2.reverse()\n",
        "numbers2\n"
      ],
      "metadata": {
        "colab": {
          "base_uri": "https://localhost:8080/"
        },
        "id": "X8mfQaiEhkuu",
        "outputId": "18a70462-e6b9-4a26-b0bd-39e87d272e40"
      },
      "execution_count": 79,
      "outputs": [
        {
          "output_type": "stream",
          "name": "stdout",
          "text": [
            "[3, 1, 4, 1, 5, 9, 2, 6, 10, 11, 12]\n"
          ]
        },
        {
          "output_type": "execute_result",
          "data": {
            "text/plain": [
              "[12, 11, 10, 6, 2, 9, 5, 1, 4, 1, 3]"
            ]
          },
          "metadata": {},
          "execution_count": 79
        }
      ]
    },
    {
      "cell_type": "code",
      "source": [
        "# iterate or for-loop through the list\n",
        "colors = [\"red\",\"blue\",\"green\",\"yellow\"]\n",
        "print(colors)\n",
        "for name in colors:\n",
        "  print(f\"{name}\")\n",
        "\n",
        "for index,name in enumerate(colors):\n",
        "  print(f\"{index}  {name}\")\n"
      ],
      "metadata": {
        "colab": {
          "base_uri": "https://localhost:8080/"
        },
        "id": "147ZhaQYh8oQ",
        "outputId": "47f58c3f-6a19-4ae1-ae80-7ff9e3ff6b7d"
      },
      "execution_count": 88,
      "outputs": [
        {
          "output_type": "stream",
          "name": "stdout",
          "text": [
            "['red', 'blue', 'green', 'yellow']\n",
            "red\n",
            "blue\n",
            "green\n",
            "yellow\n",
            "0  red\n",
            "1  blue\n",
            "2  green\n",
            "3  yellow\n"
          ]
        }
      ]
    },
    {
      "cell_type": "code",
      "source": [
        "prices = [25.50, 10.99, 5.99, 15.75, 30.00]\n",
        "total_price =0\n",
        "for price in prices:\n",
        "  total_price += price\n",
        "  print(total_price)\n",
        "avg_price = total_price/len(prices)\n",
        "print(avg_price)"
      ],
      "metadata": {
        "colab": {
          "base_uri": "https://localhost:8080/"
        },
        "id": "0xcB8_nGq4i7",
        "outputId": "ddf3885b-72ca-462f-cc06-99965fb321e1"
      },
      "execution_count": 95,
      "outputs": [
        {
          "output_type": "stream",
          "name": "stdout",
          "text": [
            "25.5\n",
            "36.49\n",
            "42.480000000000004\n",
            "58.230000000000004\n",
            "88.23\n",
            "17.646\n"
          ]
        }
      ]
    }
  ]
}