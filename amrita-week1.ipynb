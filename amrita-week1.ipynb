{
  "nbformat": 4,
  "nbformat_minor": 0,
  "metadata": {
    "colab": {
      "provenance": [],
      "authorship_tag": "ABX9TyMhnz1N3b+pX616ILWwC/zg",
      "include_colab_link": true
    },
    "kernelspec": {
      "name": "python3",
      "display_name": "Python 3"
    },
    "language_info": {
      "name": "python"
    }
  },
  "cells": [
    {
      "cell_type": "markdown",
      "metadata": {
        "id": "view-in-github",
        "colab_type": "text"
      },
      "source": [
        "<a href=\"https://colab.research.google.com/github/Amrita-GitHub/somya-28-02-2025/blob/main/amrita-week1.ipynb\" target=\"_parent\"><img src=\"https://colab.research.google.com/assets/colab-badge.svg\" alt=\"Open In Colab\"/></a>"
      ]
    },
    {
      "cell_type": "code",
      "execution_count": 11,
      "metadata": {
        "colab": {
          "base_uri": "https://localhost:8080/"
        },
        "id": "0JH2gzRjV3Bf",
        "outputId": "3ab8adfb-7106-4e6e-b681-f873055000e3"
      },
      "outputs": [
        {
          "output_type": "execute_result",
          "data": {
            "text/plain": [
              "float"
            ]
          },
          "metadata": {},
          "execution_count": 11
        }
      ],
      "source": [
        "length = float(\"4.0\")\n",
        "breadth = int(\"5\")\n",
        "type(length)"
      ]
    },
    {
      "cell_type": "code",
      "source": [
        "area = length * breadth\n"
      ],
      "metadata": {
        "id": "zgdIiVRbauuM"
      },
      "execution_count": 12,
      "outputs": []
    },
    {
      "cell_type": "code",
      "source": [
        "print(\"Area of a rectangle=\", area)"
      ],
      "metadata": {
        "colab": {
          "base_uri": "https://localhost:8080/"
        },
        "id": "utel0vqta1NX",
        "outputId": "c72d1c19-0f39-43dc-85e2-58a8d04ce2b9"
      },
      "execution_count": 13,
      "outputs": [
        {
          "output_type": "stream",
          "name": "stdout",
          "text": [
            "Area of a rectangle= 20.0\n"
          ]
        }
      ]
    },
    {
      "cell_type": "markdown",
      "source": [
        "#This is a single line comment"
      ],
      "metadata": {
        "id": "0G4yoSrlbb7S"
      }
    },
    {
      "cell_type": "code",
      "source": [],
      "metadata": {
        "id": "5bvFqEuSbbAG"
      },
      "execution_count": null,
      "outputs": []
    },
    {
      "cell_type": "markdown",
      "source": [
        "''' This\n",
        "is\n",
        "a\n",
        "multiline\n",
        "comment\n",
        "'''"
      ],
      "metadata": {
        "id": "XCvo_lx1bj2Y"
      }
    },
    {
      "cell_type": "code",
      "source": [],
      "metadata": {
        "id": "zCUu8Wgabsre"
      },
      "execution_count": null,
      "outputs": []
    },
    {
      "cell_type": "markdown",
      "source": [
        "1. Variables\n",
        "2. Data Types\n",
        "3. Operators"
      ],
      "metadata": {
        "id": "oKKKswS6cTmo"
      }
    },
    {
      "cell_type": "code",
      "source": [],
      "metadata": {
        "id": "EnpzI0wkcak5"
      },
      "execution_count": null,
      "outputs": []
    },
    {
      "cell_type": "markdown",
      "source": [
        "- Variables\n",
        "- Data Types\n",
        "- Operators"
      ],
      "metadata": {
        "id": "CEXDNIzmcb-U"
      }
    },
    {
      "cell_type": "code",
      "source": [],
      "metadata": {
        "id": "zfRuyjqQciko"
      },
      "execution_count": null,
      "outputs": []
    },
    {
      "cell_type": "markdown",
      "source": [
        "**This is Bold Text**"
      ],
      "metadata": {
        "id": "bJ06buitc0bd"
      }
    },
    {
      "cell_type": "markdown",
      "source": [
        "*This is Italic Text*"
      ],
      "metadata": {
        "id": "PF8ImmcVc3pt"
      }
    },
    {
      "cell_type": "markdown",
      "source": [],
      "metadata": {
        "id": "WE-YzCI2c7W2"
      }
    },
    {
      "cell_type": "code",
      "source": [
        "marks = int(input('Enter student marks'))\n",
        "if  marks >= 90:\n",
        "  print('Grade ' , 'A')\n",
        "elif marks >=80 and marks <89:\n",
        "  print('Grade ', 'B')\n",
        "elif marks >=70 and marks < 79:\n",
        "  print('Grade ', 'C')\n",
        "elif marks >= 60 and marks <69:\n",
        "  print('Grade ', 'D')\n",
        "else:\n",
        "  print('Grade ',  'F')\n",
        "\n",
        "\n",
        "\n"
      ],
      "metadata": {
        "colab": {
          "base_uri": "https://localhost:8080/"
        },
        "id": "lUVbcILueXyB",
        "outputId": "e337172c-dcf4-467f-f5e7-29e4b8ea362c"
      },
      "execution_count": 18,
      "outputs": [
        {
          "output_type": "stream",
          "name": "stdout",
          "text": [
            "Enter student marks99\n",
            "Grade  A\n"
          ]
        }
      ]
    }
  ]
}