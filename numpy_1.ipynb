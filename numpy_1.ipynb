{
  "nbformat": 4,
  "nbformat_minor": 0,
  "metadata": {
    "colab": {
      "provenance": [],
      "authorship_tag": "ABX9TyPhMOrRTdfrxQJRbJZg7zKw",
      "include_colab_link": true
    },
    "kernelspec": {
      "name": "python3",
      "display_name": "Python 3"
    },
    "language_info": {
      "name": "python"
    }
  },
  "cells": [
    {
      "cell_type": "markdown",
      "metadata": {
        "id": "view-in-github",
        "colab_type": "text"
      },
      "source": [
        "<a href=\"https://colab.research.google.com/github/Amrita-GitHub/somya-28-02-2025/blob/main/numpy_1.ipynb\" target=\"_parent\"><img src=\"https://colab.research.google.com/assets/colab-badge.svg\" alt=\"Open In Colab\"/></a>"
      ]
    },
    {
      "cell_type": "code",
      "execution_count": null,
      "metadata": {
        "colab": {
          "base_uri": "https://localhost:8080/"
        },
        "id": "OZGR_gQgYPNR",
        "outputId": "485aea9c-9992-4b48-d508-03e98fb968ea"
      },
      "outputs": [
        {
          "output_type": "stream",
          "name": "stdout",
          "text": [
            "2.0.2\n"
          ]
        }
      ],
      "source": [
        "import numpy as np\n",
        "print(np.__version__)\n"
      ]
    },
    {
      "cell_type": "code",
      "source": [
        "list = [10,23,45,78,90]\n",
        "print(np.array(list))\n"
      ],
      "metadata": {
        "colab": {
          "base_uri": "https://localhost:8080/"
        },
        "id": "DMNxhHEDgxX8",
        "outputId": "59b4b481-0a0f-4dce-cfdc-44f2d93c99e3"
      },
      "execution_count": null,
      "outputs": [
        {
          "output_type": "stream",
          "name": "stdout",
          "text": [
            "[10 23 45 78 90  0]\n"
          ]
        }
      ]
    },
    {
      "cell_type": "code",
      "source": [
        "tnum = (10,20,30,40,50)\n",
        "print(np.array(tnum))"
      ],
      "metadata": {
        "colab": {
          "base_uri": "https://localhost:8080/"
        },
        "id": "fQspbf9Ohj67",
        "outputId": "84dd69a0-249c-42b7-975a-ed12acbe1825"
      },
      "execution_count": null,
      "outputs": [
        {
          "output_type": "stream",
          "name": "stdout",
          "text": [
            "[10 20 30 40 50]\n"
          ]
        }
      ]
    },
    {
      "cell_type": "code",
      "source": [
        "print(np.arange(1,101))"
      ],
      "metadata": {
        "colab": {
          "base_uri": "https://localhost:8080/"
        },
        "id": "4YEeyDaZiQOm",
        "outputId": "0244f498-aeba-49be-903c-423358866fe5"
      },
      "execution_count": null,
      "outputs": [
        {
          "output_type": "stream",
          "name": "stdout",
          "text": [
            "[  0   1   2   3   4   5   6   7   8   9  10  11  12  13  14  15  16  17\n",
            "  18  19  20  21  22  23  24  25  26  27  28  29  30  31  32  33  34  35\n",
            "  36  37  38  39  40  41  42  43  44  45  46  47  48  49  50  51  52  53\n",
            "  54  55  56  57  58  59  60  61  62  63  64  65  66  67  68  69  70  71\n",
            "  72  73  74  75  76  77  78  79  80  81  82  83  84  85  86  87  88  89\n",
            "  90  91  92  93  94  95  96  97  98  99 100]\n"
          ]
        }
      ]
    },
    {
      "cell_type": "code",
      "source": [
        "print(np.linspace(1,101))"
      ],
      "metadata": {
        "colab": {
          "base_uri": "https://localhost:8080/"
        },
        "id": "CqbPW3iVi9qh",
        "outputId": "54ea1ccd-be2e-4c1e-cdf7-5ab17c52dca8"
      },
      "execution_count": null,
      "outputs": [
        {
          "output_type": "stream",
          "name": "stdout",
          "text": [
            "[  1.           3.04081633   5.08163265   7.12244898   9.16326531\n",
            "  11.20408163  13.24489796  15.28571429  17.32653061  19.36734694\n",
            "  21.40816327  23.44897959  25.48979592  27.53061224  29.57142857\n",
            "  31.6122449   33.65306122  35.69387755  37.73469388  39.7755102\n",
            "  41.81632653  43.85714286  45.89795918  47.93877551  49.97959184\n",
            "  52.02040816  54.06122449  56.10204082  58.14285714  60.18367347\n",
            "  62.2244898   64.26530612  66.30612245  68.34693878  70.3877551\n",
            "  72.42857143  74.46938776  76.51020408  78.55102041  80.59183673\n",
            "  82.63265306  84.67346939  86.71428571  88.75510204  90.79591837\n",
            "  92.83673469  94.87755102  96.91836735  98.95918367 101.        ]\n"
          ]
        }
      ]
    },
    {
      "cell_type": "code",
      "source": [
        "# passing the list to the array in numpy\n",
        "# slice ...(o to n-1)\n",
        "data = np.array([10,20,30,40,50,60])\n",
        "print(type(data))\n",
        "print(f\"get the element..{data[4]}\")\n",
        "print(f\"get the element..{data[-3]}\")\n",
        "print(f\"get the slice of an array.{data[1:3]}\")\n",
        "print(f\"get the slice of an array.{data[::]}\")"
      ],
      "metadata": {
        "colab": {
          "base_uri": "https://localhost:8080/"
        },
        "id": "M3NXFEb6kTce",
        "outputId": "53d39703-0458-4cf0-8253-0019ff9800c4"
      },
      "execution_count": null,
      "outputs": [
        {
          "output_type": "stream",
          "name": "stdout",
          "text": [
            "<class 'numpy.ndarray'>\n",
            "get the element..50\n",
            "get the element..40\n",
            "get the slice of an array.[20 30]\n",
            "get the slice of an array.[10 20 30 40 50 60]\n"
          ]
        }
      ]
    },
    {
      "cell_type": "code",
      "source": [
        "# create a n*n array\n",
        "matrix = np.array([\n",
        "    [1,2,3],\n",
        "    [4,5,6],\n",
        "    [7,8,9]])\n",
        "\n",
        "print(f\"get the element  9..{matrix[2,2]}\")\n",
        "print(f\"get the element  5..{matrix[1,1]}\")\n",
        "print(f\"get the element  3..{matrix[0,2]}\")\n",
        "\n",
        "# Get only the first 2 rows\n",
        "\n",
        "print(f\"get rows..{matrix[:,:-2]}\")\n"
      ],
      "metadata": {
        "colab": {
          "base_uri": "https://localhost:8080/"
        },
        "id": "zDPSpDyKm-yy",
        "outputId": "3c6a138b-8d39-4b94-f6b2-420b7b90dae8"
      },
      "execution_count": null,
      "outputs": [
        {
          "output_type": "stream",
          "name": "stdout",
          "text": [
            "get the element  9..9\n",
            "get the element  5..5\n",
            "get the element  3..3\n",
            "get rows..[[1]\n",
            " [4]\n",
            " [7]]\n"
          ]
        }
      ]
    }
  ]
}