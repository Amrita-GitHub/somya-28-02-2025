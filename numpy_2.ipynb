{
  "nbformat": 4,
  "nbformat_minor": 0,
  "metadata": {
    "colab": {
      "provenance": [],
      "authorship_tag": "ABX9TyP6zTHlRO/h7vpFxdALM2AW",
      "include_colab_link": true
    },
    "kernelspec": {
      "name": "python3",
      "display_name": "Python 3"
    },
    "language_info": {
      "name": "python"
    }
  },
  "cells": [
    {
      "cell_type": "markdown",
      "metadata": {
        "id": "view-in-github",
        "colab_type": "text"
      },
      "source": [
        "<a href=\"https://colab.research.google.com/github/Amrita-GitHub/somya-28-02-2025/blob/main/numpy_2.ipynb\" target=\"_parent\"><img src=\"https://colab.research.google.com/assets/colab-badge.svg\" alt=\"Open In Colab\"/></a>"
      ]
    },
    {
      "cell_type": "code",
      "execution_count": 12,
      "metadata": {
        "colab": {
          "base_uri": "https://localhost:8080/"
        },
        "id": "C30igcCtsdbw",
        "outputId": "c008e67d-7e6b-426f-c5f3-abd11ab33de0"
      },
      "outputs": [
        {
          "output_type": "stream",
          "name": "stdout",
          "text": [
            "2\n",
            "8\n",
            "16\n",
            "42\n",
            "90\n"
          ]
        }
      ],
      "source": [
        "num = [1,4,8,21,45]\n",
        "type(num)\n",
        "\n",
        "# num *= 2\n",
        "# print(num)\n",
        "\n",
        "# num += 2\n",
        "# print(num)\n",
        "\n",
        "for i in num:\n",
        "    print(i *2)\n"
      ]
    },
    {
      "cell_type": "code",
      "source": [
        "# vectorized operations\n",
        "\n",
        "import numpy as np\n",
        "num = [1,4,8,21,45]\n",
        "\n",
        "numarray = np.array(num)\n",
        "type(numarray)\n",
        "\n",
        "numarray *= 2\n",
        "print(numarray)\n",
        "\n",
        "numarray1 =  numarray > 40\n",
        "numarray1"
      ],
      "metadata": {
        "colab": {
          "base_uri": "https://localhost:8080/"
        },
        "id": "ONp92_yBtMcy",
        "outputId": "fb3cbc04-d5f4-414c-8cfe-91d440633be6"
      },
      "execution_count": 16,
      "outputs": [
        {
          "output_type": "stream",
          "name": "stdout",
          "text": [
            "[ 2  8 16 42 90]\n"
          ]
        },
        {
          "output_type": "execute_result",
          "data": {
            "text/plain": [
              "array([False, False, False,  True,  True])"
            ]
          },
          "metadata": {},
          "execution_count": 16
        }
      ]
    },
    {
      "cell_type": "code",
      "source": [
        "# vectorized operations\n",
        "sales = np.array([100, 150, 200, 250, 300])\n",
        "discount_sales =  sales *.1\n",
        "print(discount_sales)\n",
        "final_sale  = sales - discount_sales\n",
        "final_sale"
      ],
      "metadata": {
        "colab": {
          "base_uri": "https://localhost:8080/"
        },
        "id": "db_Zx7rOuwWb",
        "outputId": "9d85dde4-e255-4d27-9059-15d893fc5e40"
      },
      "execution_count": 14,
      "outputs": [
        {
          "output_type": "stream",
          "name": "stdout",
          "text": [
            "[10. 15. 20. 25. 30.]\n"
          ]
        },
        {
          "output_type": "execute_result",
          "data": {
            "text/plain": [
              "array([ 90., 135., 180., 225., 270.])"
            ]
          },
          "metadata": {},
          "execution_count": 14
        }
      ]
    },
    {
      "cell_type": "code",
      "source": [
        "# use loops intsed of vectorization\n",
        "sales1 = np.array([10, 20, 30, 40, 50])\n",
        "discounted_sales = np.empty_like(sales1)\n",
        "for i in  range(len(sales1)):\n",
        "  discounted_sales = sales1[i] * .1\n",
        "  print(discounted_sales)"
      ],
      "metadata": {
        "colab": {
          "base_uri": "https://localhost:8080/"
        },
        "id": "9NrgkVwWwcWd",
        "outputId": "f0ba3392-ff86-4c4b-a3d5-320ccf8e59c1"
      },
      "execution_count": 37,
      "outputs": [
        {
          "output_type": "stream",
          "name": "stdout",
          "text": [
            "1.0\n",
            "2.0\n",
            "3.0\n",
            "4.0\n",
            "5.0\n"
          ]
        }
      ]
    }
  ]
}