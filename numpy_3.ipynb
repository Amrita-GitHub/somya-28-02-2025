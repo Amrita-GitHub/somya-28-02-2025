{
  "nbformat": 4,
  "nbformat_minor": 0,
  "metadata": {
    "colab": {
      "provenance": [],
      "authorship_tag": "ABX9TyOJb7Y12K95jfr4ub8vHMKd",
      "include_colab_link": true
    },
    "kernelspec": {
      "name": "python3",
      "display_name": "Python 3"
    },
    "language_info": {
      "name": "python"
    }
  },
  "cells": [
    {
      "cell_type": "markdown",
      "metadata": {
        "id": "view-in-github",
        "colab_type": "text"
      },
      "source": [
        "<a href=\"https://colab.research.google.com/github/Amrita-GitHub/somya-28-02-2025/blob/main/numpy_3.ipynb\" target=\"_parent\"><img src=\"https://colab.research.google.com/assets/colab-badge.svg\" alt=\"Open In Colab\"/></a>"
      ]
    },
    {
      "cell_type": "code",
      "execution_count": null,
      "metadata": {
        "colab": {
          "base_uri": "https://localhost:8080/"
        },
        "id": "OC0g_EDRtRAL",
        "outputId": "d65d7305-4794-41fe-e75f-0ab2e40a4403"
      },
      "outputs": [
        {
          "output_type": "stream",
          "name": "stdout",
          "text": [
            "25\n"
          ]
        }
      ],
      "source": [
        "import numpy as np\n",
        "\n",
        "def square(x):\n",
        "  return x*x\n",
        "print(square(5))\n"
      ]
    },
    {
      "cell_type": "code",
      "source": [
        "result = lambda x: x*x\n",
        "print(result(5))"
      ],
      "metadata": {
        "colab": {
          "base_uri": "https://localhost:8080/"
        },
        "id": "XSdp1RTVtjAl",
        "outputId": "519b1a4a-ea16-4afd-bc5f-1c416df337ac"
      },
      "execution_count": null,
      "outputs": [
        {
          "output_type": "stream",
          "name": "stdout",
          "text": [
            "25\n"
          ]
        }
      ]
    },
    {
      "cell_type": "code",
      "source": [
        "sq = np.vectorize(lambda x: x*x)\n",
        "num = np.array([1,2,3,4,5])\n",
        "print(sq(num))"
      ],
      "metadata": {
        "colab": {
          "base_uri": "https://localhost:8080/"
        },
        "id": "7LCc-UqQt45E",
        "outputId": "01a369eb-d6db-4f01-e0c0-d50c70128082"
      },
      "execution_count": null,
      "outputs": [
        {
          "output_type": "stream",
          "name": "stdout",
          "text": [
            "[ 1  4  9 16 25]\n"
          ]
        }
      ]
    },
    {
      "cell_type": "code",
      "source": [
        "# filtering\n",
        "# Sample array of sales figures\n",
        "sales = np.array([100, 150, 200, 250, 300, 350, 400])\n",
        "\n",
        "print(sales[sales>200])\n",
        "print(sales[(sales >= 150) & (sales <= 350)])\n",
        "\n",
        "# use the built in vectorized operations\n",
        "\n",
        "print(sales[np.logical_and(sales >= 150,sales <= 350)])\n",
        "print(sales[np.logical_or(sales < 150,sales > 350)])\n",
        "\n",
        "# if then else\n",
        "print(np.where(sales > 250, \"Good\", \"Bad\"))\n",
        "# returns index when condition is met\n",
        "print(np.where(sales>250))\n",
        "# return the value when the condition is met\n",
        "print(np.extract(sales>250,sales))\n",
        "\n",
        "# normal looping\n",
        "# for i in sales:\n",
        "#   print(i)\n",
        "\n",
        "for n in  np.nditer(sales):\n",
        "  print(n)\n",
        "\n",
        "\n",
        "\n",
        "\n"
      ],
      "metadata": {
        "colab": {
          "base_uri": "https://localhost:8080/"
        },
        "id": "Y3M7308Fvj3H",
        "outputId": "3857cb1f-18e4-409d-f19e-c2398fccd76f"
      },
      "execution_count": null,
      "outputs": [
        {
          "output_type": "stream",
          "name": "stdout",
          "text": [
            "[250 300 350 400]\n",
            "[150 200 250 300 350]\n",
            "[150 200 250 300 350]\n",
            "[100 400]\n",
            "['Bad' 'Bad' 'Bad' 'Bad' 'Good' 'Good' 'Good']\n",
            "(array([4, 5, 6]),)\n",
            "[300 350 400]\n",
            "100\n",
            "150\n",
            "200\n",
            "250\n",
            "300\n",
            "350\n",
            "400\n"
          ]
        }
      ]
    },
    {
      "cell_type": "code",
      "source": [
        "num = np.array([1,2,3,4,5])\n",
        "print(np.where(num>3,num*num,num))"
      ],
      "metadata": {
        "colab": {
          "base_uri": "https://localhost:8080/"
        },
        "id": "jPCQ_mzezJEx",
        "outputId": "7bf49e15-ca91-435f-ecd8-62d75b3ed2ce"
      },
      "execution_count": null,
      "outputs": [
        {
          "output_type": "stream",
          "name": "stdout",
          "text": [
            "[ 1  2  3 16 25]\n"
          ]
        }
      ]
    },
    {
      "cell_type": "code",
      "source": [
        "nnarray = np.array([\n",
        "    [1,2,3],\n",
        "    [4,5,6],\n",
        "    [7,8,9]\n",
        "])\n",
        "\n",
        "print(np.apply_along_axis(np.sum,1,arr=nnarray))\n",
        "print(np.apply_over_axes(np.sum, nnarray,axes=(0,1)))"
      ],
      "metadata": {
        "colab": {
          "base_uri": "https://localhost:8080/"
        },
        "id": "DQNZ95t516Uz",
        "outputId": "12f99f51-da50-4278-b2cc-e01c64c098a9"
      },
      "execution_count": null,
      "outputs": [
        {
          "output_type": "stream",
          "name": "stdout",
          "text": [
            "[ 6 15 24]\n",
            "[[45]]\n"
          ]
        }
      ]
    },
    {
      "cell_type": "code",
      "source": [
        "regional_sales = np.array([\n",
        "    [100, 200, 150],\n",
        "    [250, 300, 350],\n",
        "    [400, 450, 500]\n",
        "])\n",
        "# sum of sales per region over days\n",
        "print(np.apply_along_axis(np.sum,1,arr=regional_sales))\n",
        "\n",
        "\n",
        "# acrross row\n",
        "print(np.apply_along_axis(lambda r: np.max(r) - np.min(r),1,arr=regional_sales))\n",
        "# across column\n",
        "print(np.apply_along_axis(lambda r: np.max(r) - np.min(r),0,arr=regional_sales))\n",
        "# sum of row and column\n",
        "print(np.apply_over_axes(np.sum, regional_sales,axes=(0,1)))\n"
      ],
      "metadata": {
        "colab": {
          "base_uri": "https://localhost:8080/"
        },
        "id": "MvsG5Voe3LI7",
        "outputId": "09b0865f-8fd0-49cd-9331-1af04c2cbbc4"
      },
      "execution_count": null,
      "outputs": [
        {
          "output_type": "stream",
          "name": "stdout",
          "text": [
            "[ 450  900 1350]\n",
            "[100 100 100]\n",
            "[300 250 350]\n",
            "[[2700]]\n"
          ]
        }
      ]
    }
  ]
}