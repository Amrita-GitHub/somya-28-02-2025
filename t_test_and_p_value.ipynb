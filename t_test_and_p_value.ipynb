{
  "nbformat": 4,
  "nbformat_minor": 0,
  "metadata": {
    "colab": {
      "provenance": [],
      "authorship_tag": "ABX9TyNAsT4VFY8uFWdV+YWKwz2O",
      "include_colab_link": true
    },
    "kernelspec": {
      "name": "python3",
      "display_name": "Python 3"
    },
    "language_info": {
      "name": "python"
    }
  },
  "cells": [
    {
      "cell_type": "markdown",
      "metadata": {
        "id": "view-in-github",
        "colab_type": "text"
      },
      "source": [
        "<a href=\"https://colab.research.google.com/github/Amrita-GitHub/somya-28-02-2025/blob/main/t_test_and_p_value.ipynb\" target=\"_parent\"><img src=\"https://colab.research.google.com/assets/colab-badge.svg\" alt=\"Open In Colab\"/></a>"
      ]
    },
    {
      "cell_type": "code",
      "source": [
        "import numpy as np\n",
        "from scipy import stats"
      ],
      "metadata": {
        "id": "a8I15QnqONNt"
      },
      "execution_count": 3,
      "outputs": []
    },
    {
      "cell_type": "code",
      "execution_count": 4,
      "metadata": {
        "colab": {
          "base_uri": "https://localhost:8080/"
        },
        "id": "8flGU0s3H3SL",
        "outputId": "74b10c50-077d-46f7-b3bd-9f29265cb500"
      },
      "outputs": [
        {
          "output_type": "stream",
          "name": "stdout",
          "text": [
            "T-statistic: 1.2545000963743653\n",
            "P-value: 0.2563154589158218\n"
          ]
        }
      ],
      "source": [
        "# Business Example 1: Customer Satisfaction Rating\n",
        "\n",
        "# Question: Is the average customer satisfaction rating significantly different from our target rating of 4.0?\n",
        "# Sample customer satisfaction ratings (scale of 1 to 5)\n",
        "ratings = np.array([4.2, 3.8, 4.0, 4.5, 3.9, 4.1, 4.3])\n",
        "benchmark = 4.0\n",
        "\n",
        "t_statistic, p_value = stats.ttest_1samp(ratings, benchmark)\n",
        "\n",
        "print(\"T-statistic:\", t_statistic)\n",
        "print(\"P-value:\", p_value)"
      ]
    }
  ]
}